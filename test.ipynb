{
 "cells": [
  {
   "cell_type": "code",
   "execution_count": 32,
   "metadata": {},
   "outputs": [],
   "source": [
    "import pandas as pd\n",
    "def get_df(\n",
    "    path_to_data: str, \n",
    "    sep: str=\"\\t\", \n",
    "    # column_names: list=[\"id\", \"label\", \"text\"],\n",
    "    encoding='utf-8') -> pd.DataFrame:\n",
    "    df = pd.read_csv(\n",
    "        path_to_data, \n",
    "        delimiter=sep, \n",
    "        encoding=encoding, \n",
    "        # header=None, \n",
    "        # names=column_names,\n",
    "    )\n",
    "    return df"
   ]
  },
  {
   "cell_type": "code",
   "execution_count": 19,
   "metadata": {},
   "outputs": [
    {
     "name": "stderr",
     "output_type": "stream",
     "text": [
      "C:\\Users\\pbpra\\AppData\\Local\\Temp\\ipykernel_47936\\3115695084.py:1: FutureWarning: In a future version of pandas all arguments of read_csv except for the argument 'filepath_or_buffer' will be keyword-only.\n",
      "  df  = pd.read_csv(\"artifacts/prepared/train.tsv\", \"\\t\")\n"
     ]
    }
   ],
   "source": [
    "df  = pd.read_csv(\"artifacts/prepared/train.tsv\", \"\\t\") "
   ]
  },
  {
   "cell_type": "code",
   "execution_count": 33,
   "metadata": {},
   "outputs": [],
   "source": [
    "path = \"artifacts/prepared/train.tsv\""
   ]
  },
  {
   "cell_type": "code",
   "execution_count": 34,
   "metadata": {},
   "outputs": [],
   "source": [
    "df=  get_df(path_to_data=path)"
   ]
  },
  {
   "cell_type": "code",
   "execution_count": 35,
   "metadata": {},
   "outputs": [
    {
     "data": {
      "text/html": [
       "<div>\n",
       "<style scoped>\n",
       "    .dataframe tbody tr th:only-of-type {\n",
       "        vertical-align: middle;\n",
       "    }\n",
       "\n",
       "    .dataframe tbody tr th {\n",
       "        vertical-align: top;\n",
       "    }\n",
       "\n",
       "    .dataframe thead th {\n",
       "        text-align: right;\n",
       "    }\n",
       "</style>\n",
       "<table border=\"1\" class=\"dataframe\">\n",
       "  <thead>\n",
       "    <tr style=\"text-align: right;\">\n",
       "      <th></th>\n",
       "      <th>pid</th>\n",
       "      <th>label</th>\n",
       "      <th>text</th>\n",
       "    </tr>\n",
       "  </thead>\n",
       "  <tbody>\n",
       "    <tr>\n",
       "      <th>0</th>\n",
       "      <td>4186249</td>\n",
       "      <td>0</td>\n",
       "      <td>Searching and capturing a character using regu...</td>\n",
       "    </tr>\n",
       "    <tr>\n",
       "      <th>1</th>\n",
       "      <td>54312</td>\n",
       "      <td>0</td>\n",
       "      <td>&lt;p&gt;Yes, of course there is :-) object oriente...</td>\n",
       "    </tr>\n",
       "    <tr>\n",
       "      <th>2</th>\n",
       "      <td>7956164</td>\n",
       "      <td>0</td>\n",
       "      <td>&lt;p&gt;Try waiting for window's &lt;code&gt;load&lt;/code&gt;...</td>\n",
       "    </tr>\n",
       "    <tr>\n",
       "      <th>3</th>\n",
       "      <td>3289313</td>\n",
       "      <td>0</td>\n",
       "      <td>&lt;p&gt;Assuming that's VB.Net, you need to escape...</td>\n",
       "    </tr>\n",
       "    <tr>\n",
       "      <th>4</th>\n",
       "      <td>10314039</td>\n",
       "      <td>0</td>\n",
       "      <td>&lt;p&gt;Usually when the add-to-cart button does n...</td>\n",
       "    </tr>\n",
       "  </tbody>\n",
       "</table>\n",
       "</div>"
      ],
      "text/plain": [
       "        pid  label                                               text\n",
       "0   4186249      0  Searching and capturing a character using regu...\n",
       "1     54312      0   <p>Yes, of course there is :-) object oriente...\n",
       "2   7956164      0   <p>Try waiting for window's <code>load</code>...\n",
       "3   3289313      0   <p>Assuming that's VB.Net, you need to escape...\n",
       "4  10314039      0   <p>Usually when the add-to-cart button does n..."
      ]
     },
     "execution_count": 35,
     "metadata": {},
     "output_type": "execute_result"
    }
   ],
   "source": [
    "df.head()"
   ]
  },
  {
   "cell_type": "code",
   "execution_count": null,
   "metadata": {},
   "outputs": [],
   "source": []
  }
 ],
 "metadata": {
  "kernelspec": {
   "display_name": "Python 3",
   "language": "python",
   "name": "python3"
  },
  "language_info": {
   "codemirror_mode": {
    "name": "ipython",
    "version": 3
   },
   "file_extension": ".py",
   "mimetype": "text/x-python",
   "name": "python",
   "nbconvert_exporter": "python",
   "pygments_lexer": "ipython3",
   "version": "3.8.15"
  },
  "orig_nbformat": 4,
  "vscode": {
   "interpreter": {
    "hash": "4da7603f6a14ad571da249129e2df9ac0786401c90949373febbaeff62f97ac2"
   }
  }
 },
 "nbformat": 4,
 "nbformat_minor": 2
}
